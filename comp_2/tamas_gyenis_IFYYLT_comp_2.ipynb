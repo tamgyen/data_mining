{
 "cells": [
  {
   "cell_type": "code",
   "execution_count": 1,
   "metadata": {
    "collapsed": true
   },
   "outputs": [],
   "source": [
    "import pandas as pd\n",
    "import numpy as np\n",
    "import seaborn as sns\n",
    "import matplotlib.pyplot as plt\n",
    "\n",
    "from xgboost import XGBClassifier\n",
    "from sklearn.linear_model import LogisticRegression\n",
    "from sklearn.ensemble import RandomForestClassifier, VotingClassifier\n",
    "from sklearn.metrics import roc_auc_score, balanced_accuracy_score, f1_score, make_scorer\n",
    "from sklearn.inspection import permutation_importance\n",
    "from sklearn.model_selection import train_test_split, RandomizedSearchCV, GridSearchCV, RepeatedStratifiedKFold, cross_validate, \\\n",
    "    cross_val_score\n",
    "\n",
    "from sklearn.pipeline import make_pipeline, Pipeline\n",
    "\n",
    "from imblearn.pipeline import Pipeline as imbPipeline\n",
    "from imblearn.over_sampling import SMOTE, RandomOverSampler\n",
    "from imblearn.under_sampling import RandomUnderSampler\n",
    "from imblearn.combine import SMOTETomek\n",
    "\n",
    "from sklearn import set_config"
   ]
  },
  {
   "cell_type": "code",
   "execution_count": 2,
   "outputs": [],
   "source": [
    "set_config(display=\"diagram\")"
   ],
   "metadata": {
    "collapsed": false
   }
  },
  {
   "cell_type": "code",
   "execution_count": 3,
   "outputs": [],
   "source": [
    "columns = ['MOSTYPE' , 'MAANTHUI' , 'MGEMOMV' , 'MGEMLEEF' , 'MOSHOOFD' , 'MGODRK' , 'MGODPR' , 'MGODOV' , 'MGODGE' , 'MRELGE' , 'MRELSA' , 'MRELOV' , 'MFALLEEN' , 'MFGEKIND' , 'MFWEKIND' , 'MOPLHOOG' , 'MOPLMIDD' , 'MOPLLAAG' , 'MBERHOOG' , 'MBERZELF' , 'MBERBOER' , 'MBERMIDD' , 'MBERARBG' , 'MBERARBO' , 'MSKA' , 'MSKB1' , 'MSKB2' , 'MSKC' , 'MSKD' , 'MHHUUR' , 'MHKOOP' , 'MAUT1' , 'MAUT2' , 'MAUT0' , 'MZFONDS' , 'MZPART' , 'MINKM30' , 'MINK3045' , 'MINK4575' , 'MINK7512' , 'MINK123M' , 'MINKGEM' , 'MKOOPKLA' , 'PWAPART' , 'PWABEDR' , 'PWALAND' , 'PPERSAUT' , 'PBESAUT' , 'PMOTSCO' , 'PVRAAUT' , 'PAANHANG' , 'PTRACTOR' , 'PWERKT' , 'PBROM' , 'PLEVEN' , 'PPERSONG' , 'PGEZONG' , 'PWAOREG' , 'PBRAND' , 'PZEILPL' , 'PPLEZIER' , 'PFIETS' , 'PINBOED' , 'PBYSTAND' , 'AWAPART' , 'AWABEDR' , 'AWALAND' , 'APERSAUT' , 'ABESAUT' , 'AMOTSCO' , 'AVRAAUT' , 'AAANHANG' , 'ATRACTOR' , 'AWERKT' , 'ABROM' , 'ALEVEN' , 'APERSONG' , 'AGEZONG:' , 'AWAOREG' , 'ABRAND' , 'AZEILPL' , 'APLEZIER' , 'AFIETS' , 'AINBOED' , 'ABYSTAND' , 'CARAVAN']\n",
    "\n",
    "df = pd.read_csv('data/ticdata2000.txt', names= columns, sep='\\t')\n",
    "# test_data = pd.read_csv('/content/drive/MyDrive/Egyetem, oktatás/AI DM/Competition2/ticeval2000.txt', names= columns[:-1], sep='\\t')"
   ],
   "metadata": {
    "collapsed": false
   }
  },
  {
   "cell_type": "code",
   "execution_count": 4,
   "outputs": [
    {
     "name": "stdout",
     "output_type": "stream",
     "text": [
      "df len: 5822\n",
      "n_cols: 86\n"
     ]
    }
   ],
   "source": [
    "print(f'df len: {len(df)}\\nn_cols: {len(df.columns)}')"
   ],
   "metadata": {
    "collapsed": false
   }
  },
  {
   "cell_type": "code",
   "execution_count": 5,
   "outputs": [],
   "source": [
    "# df.hist(figsize=(20, 15))"
   ],
   "metadata": {
    "collapsed": false
   }
  },
  {
   "cell_type": "code",
   "execution_count": 6,
   "outputs": [
    {
     "name": "stdout",
     "output_type": "stream",
     "text": [
      "MOSTYPE: [1, 2, 3, 4, 5, 6, 7, 8, 9, 10, 11, 12, 13, 15, 16, 17, 18, 19, 20, 21, 22, 23, 24, 25, 26, 27, 28, 29, 30, 31, 32, 33, 34, 35, 36, 37, 38, 39, 40, 41]\n",
      "MAANTHUI: [1, 2, 3, 4, 5, 6, 7, 8, 10]\n",
      "MGEMOMV: [1, 2, 3, 4, 5]\n",
      "MGEMLEEF: [1, 2, 3, 4, 5, 6]\n",
      "MOSHOOFD: [1, 2, 3, 4, 5, 6, 7, 8, 9, 10]\n",
      "MGODRK: [0, 1, 2, 3, 4, 5, 6, 7, 8, 9]\n",
      "MGODPR: [0, 1, 2, 3, 4, 5, 6, 7, 8, 9]\n",
      "MGODOV: [0, 1, 2, 3, 4, 5]\n",
      "MGODGE: [0, 1, 2, 3, 4, 5, 6, 7, 8, 9]\n",
      "MRELGE: [0, 1, 2, 3, 4, 5, 6, 7, 8, 9]\n",
      "MRELSA: [0, 1, 2, 3, 4, 5, 6, 7]\n",
      "MRELOV: [0, 1, 2, 3, 4, 5, 6, 7, 8, 9]\n",
      "MFALLEEN: [0, 1, 2, 3, 4, 5, 6, 7, 8, 9]\n",
      "MFGEKIND: [0, 1, 2, 3, 4, 5, 6, 7, 8, 9]\n",
      "MFWEKIND: [0, 1, 2, 3, 4, 5, 6, 7, 8, 9]\n",
      "MOPLHOOG: [0, 1, 2, 3, 4, 5, 6, 7, 8, 9]\n",
      "MOPLMIDD: [0, 1, 2, 3, 4, 5, 6, 7, 8, 9]\n",
      "MOPLLAAG: [0, 1, 2, 3, 4, 5, 6, 7, 8, 9]\n",
      "MBERHOOG: [0, 1, 2, 3, 4, 5, 6, 7, 8, 9]\n",
      "MBERZELF: [0, 1, 2, 3, 4, 5]\n",
      "MBERBOER: [0, 1, 2, 3, 4, 5, 6, 7, 8, 9]\n",
      "MBERMIDD: [0, 1, 2, 3, 4, 5, 6, 7, 8, 9]\n",
      "MBERARBG: [0, 1, 2, 3, 4, 5, 6, 7, 8, 9]\n",
      "MBERARBO: [0, 1, 2, 3, 4, 5, 6, 7, 8, 9]\n",
      "MSKA: [0, 1, 2, 3, 4, 5, 6, 7, 8, 9]\n",
      "MSKB1: [0, 1, 2, 3, 4, 5, 6, 7, 8, 9]\n",
      "MSKB2: [0, 1, 2, 3, 4, 5, 6, 7, 8, 9]\n",
      "MSKC: [0, 1, 2, 3, 4, 5, 6, 7, 8, 9]\n",
      "MSKD: [0, 1, 2, 3, 4, 5, 6, 7, 9]\n",
      "MHHUUR: [0, 1, 2, 3, 4, 5, 6, 7, 8, 9]\n",
      "MHKOOP: [0, 1, 2, 3, 4, 5, 6, 7, 8, 9]\n",
      "MAUT1: [0, 1, 2, 3, 4, 5, 6, 7, 8, 9]\n",
      "MAUT2: [0, 1, 2, 3, 4, 5, 6, 7]\n",
      "MAUT0: [0, 1, 2, 3, 4, 5, 6, 7, 8, 9]\n",
      "MZFONDS: [0, 1, 2, 3, 4, 5, 6, 7, 8, 9]\n",
      "MZPART: [0, 1, 2, 3, 4, 5, 6, 7, 8, 9]\n",
      "MINKM30: [0, 1, 2, 3, 4, 5, 6, 7, 8, 9]\n",
      "MINK3045: [0, 1, 2, 3, 4, 5, 6, 7, 8, 9]\n",
      "MINK4575: [0, 1, 2, 3, 4, 5, 6, 7, 8, 9]\n",
      "MINK7512: [0, 1, 2, 3, 4, 5, 6, 7, 8, 9]\n",
      "MINK123M: [0, 1, 2, 3, 4, 5, 7, 9]\n",
      "MINKGEM: [0, 1, 2, 3, 4, 5, 6, 7, 8, 9]\n",
      "MKOOPKLA: [1, 2, 3, 4, 5, 6, 7, 8]\n",
      "PWAPART: [0, 1, 2, 3]\n",
      "PWABEDR: [0, 1, 2, 3, 4, 5, 6]\n",
      "PWALAND: [0, 2, 3, 4]\n",
      "PPERSAUT: [0, 4, 5, 6, 7, 8]\n",
      "PBESAUT: [0, 5, 6, 7]\n",
      "PMOTSCO: [0, 3, 4, 5, 6, 7]\n",
      "PVRAAUT: [0, 4, 6, 9]\n",
      "PAANHANG: [0, 1, 2, 3, 4, 5]\n",
      "PTRACTOR: [0, 3, 4, 5, 6]\n",
      "PWERKT: [0, 2, 3, 4, 6]\n",
      "PBROM: [0, 2, 3, 4, 5, 6]\n",
      "PLEVEN: [0, 1, 2, 3, 4, 5, 6, 7, 8, 9]\n",
      "PPERSONG: [0, 1, 2, 3, 4, 5, 6]\n",
      "PGEZONG: [0, 2, 3]\n",
      "PWAOREG: [0, 4, 5, 6, 7]\n",
      "PBRAND: [0, 1, 2, 3, 4, 5, 6, 7, 8]\n",
      "PZEILPL: [0, 1, 3]\n",
      "PPLEZIER: [0, 1, 2, 3, 4, 5, 6]\n",
      "PFIETS: [0, 1]\n",
      "PINBOED: [0, 1, 2, 3, 4, 5, 6]\n",
      "PBYSTAND: [0, 2, 3, 4, 5]\n",
      "AWAPART: [0, 1, 2]\n",
      "AWABEDR: [0, 1, 5]\n",
      "AWALAND: [0, 1]\n",
      "APERSAUT: [0, 1, 2, 3, 4, 6, 7]\n",
      "ABESAUT: [0, 1, 2, 3, 4]\n",
      "AMOTSCO: [0, 1, 2, 8]\n",
      "AVRAAUT: [0, 1, 2, 3]\n",
      "AAANHANG: [0, 1, 2, 3]\n",
      "ATRACTOR: [0, 1, 2, 3, 4]\n",
      "AWERKT: [0, 1, 2, 3, 6]\n",
      "ABROM: [0, 1, 2]\n",
      "ALEVEN: [0, 1, 2, 3, 4, 8]\n",
      "APERSONG: [0, 1]\n",
      "AGEZONG:: [0, 1]\n",
      "AWAOREG: [0, 1, 2]\n",
      "ABRAND: [0, 1, 2, 3, 4, 5, 7]\n",
      "AZEILPL: [0, 1]\n",
      "APLEZIER: [0, 1, 2]\n",
      "AFIETS: [0, 1, 2, 3]\n",
      "AINBOED: [0, 1, 2]\n",
      "ABYSTAND: [0, 1, 2]\n",
      "CARAVAN: [0, 1]\n"
     ]
    },
    {
     "data": {
      "text/plain": "[None,\n None,\n None,\n None,\n None,\n None,\n None,\n None,\n None,\n None,\n None,\n None,\n None,\n None,\n None,\n None,\n None,\n None,\n None,\n None,\n None,\n None,\n None,\n None,\n None,\n None,\n None,\n None,\n None,\n None,\n None,\n None,\n None,\n None,\n None,\n None,\n None,\n None,\n None,\n None,\n None,\n None,\n None,\n None,\n None,\n None,\n None,\n None,\n None,\n None,\n None,\n None,\n None,\n None,\n None,\n None,\n None,\n None,\n None,\n None,\n None,\n None,\n None,\n None,\n None,\n None,\n None,\n None,\n None,\n None,\n None,\n None,\n None,\n None,\n None,\n None,\n None,\n None,\n None,\n None,\n None,\n None,\n None,\n None,\n None,\n None]"
     },
     "execution_count": 6,
     "metadata": {},
     "output_type": "execute_result"
    }
   ],
   "source": [
    "[print(f'{col}: {sorted(pd.unique(df[col]))}') for col in df.columns]"
   ],
   "metadata": {
    "collapsed": false
   }
  },
  {
   "cell_type": "code",
   "execution_count": 7,
   "outputs": [],
   "source": [
    "# feature engineering\n",
    "perc_cols = [col for col in df. columns if (col[0] == 'M') and (col not in ['MOSTYPE', 'MAANTHUI', 'MGEMOMV', 'MGEMLEEF', 'MOSHOOFD'])]"
   ],
   "metadata": {
    "collapsed": false
   }
  },
  {
   "cell_type": "code",
   "execution_count": 8,
   "outputs": [],
   "source": [
    "for col in perc_cols:\n",
    "    df[f'ALL_{col}'] = (df[col] == 9) * 1\n",
    "    df[f'NONE_{col}'] = (df[col] == 0) * 1"
   ],
   "metadata": {
    "collapsed": false
   }
  },
  {
   "cell_type": "code",
   "execution_count": 9,
   "outputs": [],
   "source": [
    "insu_cols = [col for col in df. columns if (col[0] != 'M') if len(pd.unique(df[col])) > 3]"
   ],
   "metadata": {
    "collapsed": false
   }
  },
  {
   "cell_type": "code",
   "execution_count": 10,
   "outputs": [
    {
     "name": "stderr",
     "output_type": "stream",
     "text": [
      "C:\\Users\\gyenist\\AppData\\Local\\Temp\\ipykernel_14164\\3812716669.py:2: PerformanceWarning: DataFrame is highly fragmented.  This is usually the result of calling `frame.insert` many times, which has poor performance.  Consider joining all columns at once using pd.concat(axis=1) instead. To get a de-fragmented frame, use `newframe = frame.copy()`\n",
      "  df[f'HASALOT_{col}'] = (df[col] > 2) * 1\n",
      "C:\\Users\\gyenist\\AppData\\Local\\Temp\\ipykernel_14164\\3812716669.py:2: PerformanceWarning: DataFrame is highly fragmented.  This is usually the result of calling `frame.insert` many times, which has poor performance.  Consider joining all columns at once using pd.concat(axis=1) instead. To get a de-fragmented frame, use `newframe = frame.copy()`\n",
      "  df[f'HASALOT_{col}'] = (df[col] > 2) * 1\n",
      "C:\\Users\\gyenist\\AppData\\Local\\Temp\\ipykernel_14164\\3812716669.py:2: PerformanceWarning: DataFrame is highly fragmented.  This is usually the result of calling `frame.insert` many times, which has poor performance.  Consider joining all columns at once using pd.concat(axis=1) instead. To get a de-fragmented frame, use `newframe = frame.copy()`\n",
      "  df[f'HASALOT_{col}'] = (df[col] > 2) * 1\n",
      "C:\\Users\\gyenist\\AppData\\Local\\Temp\\ipykernel_14164\\3812716669.py:2: PerformanceWarning: DataFrame is highly fragmented.  This is usually the result of calling `frame.insert` many times, which has poor performance.  Consider joining all columns at once using pd.concat(axis=1) instead. To get a de-fragmented frame, use `newframe = frame.copy()`\n",
      "  df[f'HASALOT_{col}'] = (df[col] > 2) * 1\n",
      "C:\\Users\\gyenist\\AppData\\Local\\Temp\\ipykernel_14164\\3812716669.py:2: PerformanceWarning: DataFrame is highly fragmented.  This is usually the result of calling `frame.insert` many times, which has poor performance.  Consider joining all columns at once using pd.concat(axis=1) instead. To get a de-fragmented frame, use `newframe = frame.copy()`\n",
      "  df[f'HASALOT_{col}'] = (df[col] > 2) * 1\n"
     ]
    }
   ],
   "source": [
    "for col in insu_cols:\n",
    "    df[f'HASALOT_{col}'] = (df[col] > 2) * 1"
   ],
   "metadata": {
    "collapsed": false
   }
  },
  {
   "cell_type": "code",
   "execution_count": 11,
   "outputs": [],
   "source": [
    "onehot = pd.get_dummies(df[['MOSTYPE', 'MOSHOOFD']]).astype('object')"
   ],
   "metadata": {
    "collapsed": false
   }
  },
  {
   "cell_type": "code",
   "execution_count": 12,
   "outputs": [],
   "source": [
    "df = pd.concat([df.drop(['MOSTYPE', 'MOSHOOFD'], axis=1), onehot], axis=1)"
   ],
   "metadata": {
    "collapsed": false
   }
  },
  {
   "cell_type": "code",
   "execution_count": 13,
   "outputs": [
    {
     "data": {
      "text/plain": "      MAANTHUI  MGEMOMV  MGEMLEEF  MGODRK  MGODPR  MGODOV  MGODGE  MRELGE  \\\n0            1        3         2       0       5       1       3       7   \n1            1        2         2       1       4       1       4       6   \n2            1        2         2       0       4       2       4       3   \n3            1        3         3       2       3       2       4       5   \n4            1        4         2       1       4       1       4       7   \n...        ...      ...       ...     ...     ...     ...     ...     ...   \n5817         1        1         2       0       6       1       2       1   \n5818         1        4         4       1       4       1       4       6   \n5819         1        3         4       0       6       0       3       5   \n5820         1        3         2       0       7       0       2       7   \n5821         1        3         3       0       6       1       2       7   \n\n      MRELSA  MRELOV  ...  HASALOT_AMOTSCO  HASALOT_AVRAAUT  HASALOT_AAANHANG  \\\n0          0       2  ...                0                0                 0   \n1          2       2  ...                0                0                 0   \n2          2       4  ...                0                0                 0   \n3          2       2  ...                0                0                 0   \n4          1       2  ...                0                0                 0   \n...      ...     ...  ...              ...              ...               ...   \n5817       2       6  ...                0                0                 0   \n5818       0       3  ...                0                0                 0   \n5819       1       4  ...                0                0                 0   \n5820       2       0  ...                0                0                 0   \n5821       1       2  ...                0                0                 0   \n\n      HASALOT_ATRACTOR  HASALOT_AWERKT  HASALOT_ALEVEN  HASALOT_ABRAND  \\\n0                    0               0               0               0   \n1                    0               0               0               0   \n2                    0               0               0               0   \n3                    0               0               0               0   \n4                    0               0               0               0   \n...                ...             ...             ...             ...   \n5817                 0               0               0               0   \n5818                 0               0               0               0   \n5819                 0               0               0               0   \n5820                 0               0               0               0   \n5821                 0               0               0               0   \n\n      HASALOT_AFIETS  MOSTYPE  MOSHOOFD  \n0                  0       33         8  \n1                  0       37         8  \n2                  0       37         8  \n3                  0        9         3  \n4                  0       40        10  \n...              ...      ...       ...  \n5817               0       36         8  \n5818               0       35         8  \n5819               0       33         8  \n5820               0       34         8  \n5821               0       33         8  \n\n[5822 rows x 190 columns]",
      "text/html": "<div>\n<style scoped>\n    .dataframe tbody tr th:only-of-type {\n        vertical-align: middle;\n    }\n\n    .dataframe tbody tr th {\n        vertical-align: top;\n    }\n\n    .dataframe thead th {\n        text-align: right;\n    }\n</style>\n<table border=\"1\" class=\"dataframe\">\n  <thead>\n    <tr style=\"text-align: right;\">\n      <th></th>\n      <th>MAANTHUI</th>\n      <th>MGEMOMV</th>\n      <th>MGEMLEEF</th>\n      <th>MGODRK</th>\n      <th>MGODPR</th>\n      <th>MGODOV</th>\n      <th>MGODGE</th>\n      <th>MRELGE</th>\n      <th>MRELSA</th>\n      <th>MRELOV</th>\n      <th>...</th>\n      <th>HASALOT_AMOTSCO</th>\n      <th>HASALOT_AVRAAUT</th>\n      <th>HASALOT_AAANHANG</th>\n      <th>HASALOT_ATRACTOR</th>\n      <th>HASALOT_AWERKT</th>\n      <th>HASALOT_ALEVEN</th>\n      <th>HASALOT_ABRAND</th>\n      <th>HASALOT_AFIETS</th>\n      <th>MOSTYPE</th>\n      <th>MOSHOOFD</th>\n    </tr>\n  </thead>\n  <tbody>\n    <tr>\n      <th>0</th>\n      <td>1</td>\n      <td>3</td>\n      <td>2</td>\n      <td>0</td>\n      <td>5</td>\n      <td>1</td>\n      <td>3</td>\n      <td>7</td>\n      <td>0</td>\n      <td>2</td>\n      <td>...</td>\n      <td>0</td>\n      <td>0</td>\n      <td>0</td>\n      <td>0</td>\n      <td>0</td>\n      <td>0</td>\n      <td>0</td>\n      <td>0</td>\n      <td>33</td>\n      <td>8</td>\n    </tr>\n    <tr>\n      <th>1</th>\n      <td>1</td>\n      <td>2</td>\n      <td>2</td>\n      <td>1</td>\n      <td>4</td>\n      <td>1</td>\n      <td>4</td>\n      <td>6</td>\n      <td>2</td>\n      <td>2</td>\n      <td>...</td>\n      <td>0</td>\n      <td>0</td>\n      <td>0</td>\n      <td>0</td>\n      <td>0</td>\n      <td>0</td>\n      <td>0</td>\n      <td>0</td>\n      <td>37</td>\n      <td>8</td>\n    </tr>\n    <tr>\n      <th>2</th>\n      <td>1</td>\n      <td>2</td>\n      <td>2</td>\n      <td>0</td>\n      <td>4</td>\n      <td>2</td>\n      <td>4</td>\n      <td>3</td>\n      <td>2</td>\n      <td>4</td>\n      <td>...</td>\n      <td>0</td>\n      <td>0</td>\n      <td>0</td>\n      <td>0</td>\n      <td>0</td>\n      <td>0</td>\n      <td>0</td>\n      <td>0</td>\n      <td>37</td>\n      <td>8</td>\n    </tr>\n    <tr>\n      <th>3</th>\n      <td>1</td>\n      <td>3</td>\n      <td>3</td>\n      <td>2</td>\n      <td>3</td>\n      <td>2</td>\n      <td>4</td>\n      <td>5</td>\n      <td>2</td>\n      <td>2</td>\n      <td>...</td>\n      <td>0</td>\n      <td>0</td>\n      <td>0</td>\n      <td>0</td>\n      <td>0</td>\n      <td>0</td>\n      <td>0</td>\n      <td>0</td>\n      <td>9</td>\n      <td>3</td>\n    </tr>\n    <tr>\n      <th>4</th>\n      <td>1</td>\n      <td>4</td>\n      <td>2</td>\n      <td>1</td>\n      <td>4</td>\n      <td>1</td>\n      <td>4</td>\n      <td>7</td>\n      <td>1</td>\n      <td>2</td>\n      <td>...</td>\n      <td>0</td>\n      <td>0</td>\n      <td>0</td>\n      <td>0</td>\n      <td>0</td>\n      <td>0</td>\n      <td>0</td>\n      <td>0</td>\n      <td>40</td>\n      <td>10</td>\n    </tr>\n    <tr>\n      <th>...</th>\n      <td>...</td>\n      <td>...</td>\n      <td>...</td>\n      <td>...</td>\n      <td>...</td>\n      <td>...</td>\n      <td>...</td>\n      <td>...</td>\n      <td>...</td>\n      <td>...</td>\n      <td>...</td>\n      <td>...</td>\n      <td>...</td>\n      <td>...</td>\n      <td>...</td>\n      <td>...</td>\n      <td>...</td>\n      <td>...</td>\n      <td>...</td>\n      <td>...</td>\n      <td>...</td>\n    </tr>\n    <tr>\n      <th>5817</th>\n      <td>1</td>\n      <td>1</td>\n      <td>2</td>\n      <td>0</td>\n      <td>6</td>\n      <td>1</td>\n      <td>2</td>\n      <td>1</td>\n      <td>2</td>\n      <td>6</td>\n      <td>...</td>\n      <td>0</td>\n      <td>0</td>\n      <td>0</td>\n      <td>0</td>\n      <td>0</td>\n      <td>0</td>\n      <td>0</td>\n      <td>0</td>\n      <td>36</td>\n      <td>8</td>\n    </tr>\n    <tr>\n      <th>5818</th>\n      <td>1</td>\n      <td>4</td>\n      <td>4</td>\n      <td>1</td>\n      <td>4</td>\n      <td>1</td>\n      <td>4</td>\n      <td>6</td>\n      <td>0</td>\n      <td>3</td>\n      <td>...</td>\n      <td>0</td>\n      <td>0</td>\n      <td>0</td>\n      <td>0</td>\n      <td>0</td>\n      <td>0</td>\n      <td>0</td>\n      <td>0</td>\n      <td>35</td>\n      <td>8</td>\n    </tr>\n    <tr>\n      <th>5819</th>\n      <td>1</td>\n      <td>3</td>\n      <td>4</td>\n      <td>0</td>\n      <td>6</td>\n      <td>0</td>\n      <td>3</td>\n      <td>5</td>\n      <td>1</td>\n      <td>4</td>\n      <td>...</td>\n      <td>0</td>\n      <td>0</td>\n      <td>0</td>\n      <td>0</td>\n      <td>0</td>\n      <td>0</td>\n      <td>0</td>\n      <td>0</td>\n      <td>33</td>\n      <td>8</td>\n    </tr>\n    <tr>\n      <th>5820</th>\n      <td>1</td>\n      <td>3</td>\n      <td>2</td>\n      <td>0</td>\n      <td>7</td>\n      <td>0</td>\n      <td>2</td>\n      <td>7</td>\n      <td>2</td>\n      <td>0</td>\n      <td>...</td>\n      <td>0</td>\n      <td>0</td>\n      <td>0</td>\n      <td>0</td>\n      <td>0</td>\n      <td>0</td>\n      <td>0</td>\n      <td>0</td>\n      <td>34</td>\n      <td>8</td>\n    </tr>\n    <tr>\n      <th>5821</th>\n      <td>1</td>\n      <td>3</td>\n      <td>3</td>\n      <td>0</td>\n      <td>6</td>\n      <td>1</td>\n      <td>2</td>\n      <td>7</td>\n      <td>1</td>\n      <td>2</td>\n      <td>...</td>\n      <td>0</td>\n      <td>0</td>\n      <td>0</td>\n      <td>0</td>\n      <td>0</td>\n      <td>0</td>\n      <td>0</td>\n      <td>0</td>\n      <td>33</td>\n      <td>8</td>\n    </tr>\n  </tbody>\n</table>\n<p>5822 rows × 190 columns</p>\n</div>"
     },
     "execution_count": 13,
     "metadata": {},
     "output_type": "execute_result"
    }
   ],
   "source": [
    "df"
   ],
   "metadata": {
    "collapsed": false
   }
  },
  {
   "cell_type": "markdown",
   "source": [
    "## MODELING"
   ],
   "metadata": {
    "collapsed": false
   }
  },
  {
   "cell_type": "code",
   "execution_count": 14,
   "outputs": [],
   "source": [
    "y_train = df['CARAVAN'].values\n",
    "X_train = df.drop(['CARAVAN'], axis=1).values"
   ],
   "metadata": {
    "collapsed": false
   }
  },
  {
   "cell_type": "code",
   "execution_count": 15,
   "outputs": [
    {
     "data": {
      "text/plain": "((5822, 189), (5822,))"
     },
     "execution_count": 15,
     "metadata": {},
     "output_type": "execute_result"
    }
   ],
   "source": [
    "X_train.shape, y_train.shape"
   ],
   "metadata": {
    "collapsed": false
   }
  },
  {
   "cell_type": "code",
   "execution_count": 16,
   "outputs": [],
   "source": [
    "pipe = imbPipeline([\n",
    "    ('sampler', RandomUnderSampler()),\n",
    "    ('rf', RandomForestClassifier())\n",
    "])"
   ],
   "metadata": {
    "collapsed": false
   }
  },
  {
   "cell_type": "code",
   "execution_count": 17,
   "outputs": [
    {
     "data": {
      "text/plain": "{'memory': None,\n 'steps': [('sampler', RandomUnderSampler()),\n  ('rf', RandomForestClassifier())],\n 'verbose': False,\n 'sampler': RandomUnderSampler(),\n 'rf': RandomForestClassifier(),\n 'sampler__random_state': None,\n 'sampler__replacement': False,\n 'sampler__sampling_strategy': 'auto',\n 'rf__bootstrap': True,\n 'rf__ccp_alpha': 0.0,\n 'rf__class_weight': None,\n 'rf__criterion': 'gini',\n 'rf__max_depth': None,\n 'rf__max_features': 'sqrt',\n 'rf__max_leaf_nodes': None,\n 'rf__max_samples': None,\n 'rf__min_impurity_decrease': 0.0,\n 'rf__min_samples_leaf': 1,\n 'rf__min_samples_split': 2,\n 'rf__min_weight_fraction_leaf': 0.0,\n 'rf__n_estimators': 100,\n 'rf__n_jobs': None,\n 'rf__oob_score': False,\n 'rf__random_state': None,\n 'rf__verbose': 0,\n 'rf__warm_start': False}"
     },
     "execution_count": 17,
     "metadata": {},
     "output_type": "execute_result"
    }
   ],
   "source": [
    "pipe.get_params()"
   ],
   "metadata": {
    "collapsed": false
   }
  },
  {
   "cell_type": "code",
   "execution_count": 18,
   "outputs": [
    {
     "data": {
      "text/plain": "Pipeline(steps=[('sampler', RandomUnderSampler()),\n                ('rf', RandomForestClassifier())])",
      "text/html": "<style>#sk-container-id-1 {color: black;background-color: white;}#sk-container-id-1 pre{padding: 0;}#sk-container-id-1 div.sk-toggleable {background-color: white;}#sk-container-id-1 label.sk-toggleable__label {cursor: pointer;display: block;width: 100%;margin-bottom: 0;padding: 0.3em;box-sizing: border-box;text-align: center;}#sk-container-id-1 label.sk-toggleable__label-arrow:before {content: \"▸\";float: left;margin-right: 0.25em;color: #696969;}#sk-container-id-1 label.sk-toggleable__label-arrow:hover:before {color: black;}#sk-container-id-1 div.sk-estimator:hover label.sk-toggleable__label-arrow:before {color: black;}#sk-container-id-1 div.sk-toggleable__content {max-height: 0;max-width: 0;overflow: hidden;text-align: left;background-color: #f0f8ff;}#sk-container-id-1 div.sk-toggleable__content pre {margin: 0.2em;color: black;border-radius: 0.25em;background-color: #f0f8ff;}#sk-container-id-1 input.sk-toggleable__control:checked~div.sk-toggleable__content {max-height: 200px;max-width: 100%;overflow: auto;}#sk-container-id-1 input.sk-toggleable__control:checked~label.sk-toggleable__label-arrow:before {content: \"▾\";}#sk-container-id-1 div.sk-estimator input.sk-toggleable__control:checked~label.sk-toggleable__label {background-color: #d4ebff;}#sk-container-id-1 div.sk-label input.sk-toggleable__control:checked~label.sk-toggleable__label {background-color: #d4ebff;}#sk-container-id-1 input.sk-hidden--visually {border: 0;clip: rect(1px 1px 1px 1px);clip: rect(1px, 1px, 1px, 1px);height: 1px;margin: -1px;overflow: hidden;padding: 0;position: absolute;width: 1px;}#sk-container-id-1 div.sk-estimator {font-family: monospace;background-color: #f0f8ff;border: 1px dotted black;border-radius: 0.25em;box-sizing: border-box;margin-bottom: 0.5em;}#sk-container-id-1 div.sk-estimator:hover {background-color: #d4ebff;}#sk-container-id-1 div.sk-parallel-item::after {content: \"\";width: 100%;border-bottom: 1px solid gray;flex-grow: 1;}#sk-container-id-1 div.sk-label:hover label.sk-toggleable__label {background-color: #d4ebff;}#sk-container-id-1 div.sk-serial::before {content: \"\";position: absolute;border-left: 1px solid gray;box-sizing: border-box;top: 0;bottom: 0;left: 50%;z-index: 0;}#sk-container-id-1 div.sk-serial {display: flex;flex-direction: column;align-items: center;background-color: white;padding-right: 0.2em;padding-left: 0.2em;position: relative;}#sk-container-id-1 div.sk-item {position: relative;z-index: 1;}#sk-container-id-1 div.sk-parallel {display: flex;align-items: stretch;justify-content: center;background-color: white;position: relative;}#sk-container-id-1 div.sk-item::before, #sk-container-id-1 div.sk-parallel-item::before {content: \"\";position: absolute;border-left: 1px solid gray;box-sizing: border-box;top: 0;bottom: 0;left: 50%;z-index: -1;}#sk-container-id-1 div.sk-parallel-item {display: flex;flex-direction: column;z-index: 1;position: relative;background-color: white;}#sk-container-id-1 div.sk-parallel-item:first-child::after {align-self: flex-end;width: 50%;}#sk-container-id-1 div.sk-parallel-item:last-child::after {align-self: flex-start;width: 50%;}#sk-container-id-1 div.sk-parallel-item:only-child::after {width: 0;}#sk-container-id-1 div.sk-dashed-wrapped {border: 1px dashed gray;margin: 0 0.4em 0.5em 0.4em;box-sizing: border-box;padding-bottom: 0.4em;background-color: white;}#sk-container-id-1 div.sk-label label {font-family: monospace;font-weight: bold;display: inline-block;line-height: 1.2em;}#sk-container-id-1 div.sk-label-container {text-align: center;}#sk-container-id-1 div.sk-container {/* jupyter's `normalize.less` sets `[hidden] { display: none; }` but bootstrap.min.css set `[hidden] { display: none !important; }` so we also need the `!important` here to be able to override the default hidden behavior on the sphinx rendered scikit-learn.org. See: https://github.com/scikit-learn/scikit-learn/issues/21755 */display: inline-block !important;position: relative;}#sk-container-id-1 div.sk-text-repr-fallback {display: none;}</style><div id=\"sk-container-id-1\" class=\"sk-top-container\"><div class=\"sk-text-repr-fallback\"><pre>Pipeline(steps=[(&#x27;sampler&#x27;, RandomUnderSampler()),\n                (&#x27;rf&#x27;, RandomForestClassifier())])</pre><b>In a Jupyter environment, please rerun this cell to show the HTML representation or trust the notebook. <br />On GitHub, the HTML representation is unable to render, please try loading this page with nbviewer.org.</b></div><div class=\"sk-container\" hidden><div class=\"sk-item sk-dashed-wrapped\"><div class=\"sk-label-container\"><div class=\"sk-label sk-toggleable\"><input class=\"sk-toggleable__control sk-hidden--visually\" id=\"sk-estimator-id-1\" type=\"checkbox\" ><label for=\"sk-estimator-id-1\" class=\"sk-toggleable__label sk-toggleable__label-arrow\">Pipeline</label><div class=\"sk-toggleable__content\"><pre>Pipeline(steps=[(&#x27;sampler&#x27;, RandomUnderSampler()),\n                (&#x27;rf&#x27;, RandomForestClassifier())])</pre></div></div></div><div class=\"sk-serial\"><div class=\"sk-item\"><div class=\"sk-estimator sk-toggleable\"><input class=\"sk-toggleable__control sk-hidden--visually\" id=\"sk-estimator-id-2\" type=\"checkbox\" ><label for=\"sk-estimator-id-2\" class=\"sk-toggleable__label sk-toggleable__label-arrow\">RandomUnderSampler</label><div class=\"sk-toggleable__content\"><pre>RandomUnderSampler()</pre></div></div></div><div class=\"sk-item\"><div class=\"sk-estimator sk-toggleable\"><input class=\"sk-toggleable__control sk-hidden--visually\" id=\"sk-estimator-id-3\" type=\"checkbox\" ><label for=\"sk-estimator-id-3\" class=\"sk-toggleable__label sk-toggleable__label-arrow\">RandomForestClassifier</label><div class=\"sk-toggleable__content\"><pre>RandomForestClassifier()</pre></div></div></div></div></div></div></div>"
     },
     "execution_count": 18,
     "metadata": {},
     "output_type": "execute_result"
    }
   ],
   "source": [
    "pipe.fit(X_train, y_train)"
   ],
   "metadata": {
    "collapsed": false
   }
  },
  {
   "cell_type": "code",
   "execution_count": 19,
   "outputs": [],
   "source": [
    "# kf = RepeatedStratifiedKFold(n_splits=5, random_state=999)\n",
    "# scorer = make_scorer(balanced_accuracy_score)\n",
    "# scores = np.mean(cross_val_score(pipe, X_train, y_train, scoring=scorer, cv=kf))"
   ],
   "metadata": {
    "collapsed": false
   }
  },
  {
   "cell_type": "code",
   "execution_count": 20,
   "outputs": [],
   "source": [
    "# print(scores)"
   ],
   "metadata": {
    "collapsed": false
   }
  },
  {
   "cell_type": "markdown",
   "source": [
    "### CCP"
   ],
   "metadata": {
    "collapsed": false
   }
  },
  {
   "cell_type": "code",
   "execution_count": 21,
   "outputs": [],
   "source": [
    "params_ccp = {\n",
    "    'sampler': [SMOTETomek(), RandomOverSampler()],\n",
    "    'rf__ccp_alpha': list(np.arange(0, .1, .002)),\n",
    "    'rf__class_weight':['balanced']\n",
    "}"
   ],
   "metadata": {
    "collapsed": false
   }
  },
  {
   "cell_type": "code",
   "execution_count": 22,
   "outputs": [],
   "source": [
    "rsf = RepeatedStratifiedKFold(random_state=42, n_repeats=5, n_splits=5)\n",
    "clf_ccp = GridSearchCV(pipe, params_ccp, scoring='balanced_accuracy', verbose=2, cv=rsf, n_jobs=-1)"
   ],
   "metadata": {
    "collapsed": false
   }
  },
  {
   "cell_type": "code",
   "execution_count": null,
   "outputs": [
    {
     "name": "stdout",
     "output_type": "stream",
     "text": [
      "Fitting 25 folds for each of 100 candidates, totalling 2500 fits\n"
     ]
    }
   ],
   "source": [
    "clf_ccp.fit(X_train, y_train)"
   ],
   "metadata": {
    "collapsed": false,
    "pycharm": {
     "is_executing": true
    }
   }
  },
  {
   "cell_type": "markdown",
   "source": [
    "### ALL"
   ],
   "metadata": {
    "collapsed": false
   }
  },
  {
   "cell_type": "code",
   "execution_count": null,
   "outputs": [],
   "source": [
    "params = {\n",
    "    'sampler': [RandomOverSampler(), SMOTETomek()],\n",
    "    'rf__max_features': list(np.arange(100, 150, 10)) + [len(df.columns)],\n",
    "    'rf__max_leaf_nodes': list(np.arange(50, 210, 20)),\n",
    "    'rf__n_estimators': [50, 75, 100, 150, 200, 400],\n",
    "    'rf__class_weight':['balanced']\n",
    "}"
   ],
   "metadata": {
    "collapsed": false,
    "pycharm": {
     "is_executing": true
    }
   }
  },
  {
   "cell_type": "code",
   "execution_count": null,
   "outputs": [],
   "source": [
    "rsf = RepeatedStratifiedKFold(random_state=42, n_repeats=5, n_splits=5)\n",
    "clf = GridSearchCV(pipe, params, scoring='balanced_accuracy', verbose=2, cv=rsf, n_jobs=-1)"
   ],
   "metadata": {
    "collapsed": false,
    "pycharm": {
     "is_executing": true
    }
   }
  },
  {
   "cell_type": "code",
   "execution_count": null,
   "outputs": [],
   "source": [
    "clf.fit(X_train, y_train)"
   ],
   "metadata": {
    "collapsed": false,
    "pycharm": {
     "is_executing": true
    }
   }
  },
  {
   "cell_type": "code",
   "execution_count": null,
   "outputs": [],
   "source": [
    "result_df = pd.DataFrame.from_dict(clf.cv_results_, orient='columns')\n",
    "print(result_df.columns)"
   ],
   "metadata": {
    "collapsed": false,
    "pycharm": {
     "is_executing": true
    }
   }
  },
  {
   "cell_type": "code",
   "execution_count": null,
   "outputs": [],
   "source": [
    "sns.relplot(data=result_df,\n",
    "            kind='line',\n",
    "            x='param_rf__max_depth',\n",
    "            y='mean_test_score',\n",
    "            hue='param_sampler',\n",
    "            col='param_rf__min_samples_leaf')\n",
    "plt.show()"
   ],
   "metadata": {
    "collapsed": false,
    "pycharm": {
     "is_executing": true
    }
   }
  },
  {
   "cell_type": "code",
   "execution_count": null,
   "outputs": [],
   "source": [
    "clf.best_params_"
   ],
   "metadata": {
    "collapsed": false,
    "pycharm": {
     "is_executing": true
    }
   }
  },
  {
   "cell_type": "code",
   "execution_count": null,
   "outputs": [],
   "source": [
    "pipe_best = imbPipeline([\n",
    "    ('sampler', RandomOverSampler()),\n",
    "    ('rf', RandomForestClassifier(min_samples_split=5,\n",
    "                                  min_samples_leaf=4,\n",
    "                                  max_depth=10))\n",
    "])\n",
    "\n"
   ],
   "metadata": {
    "collapsed": false,
    "pycharm": {
     "is_executing": true
    }
   }
  },
  {
   "cell_type": "code",
   "execution_count": null,
   "outputs": [],
   "source": [
    "kf = RepeatedStratifiedKFold(n_splits=5, n_repeats=10, random_state=999)\n",
    "scorer = make_scorer(balanced_accuracy_score)\n",
    "scores = np.mean(cross_val_score(pipe_best, X_train, y_train, scoring=scorer, cv=kf))"
   ],
   "metadata": {
    "collapsed": false,
    "pycharm": {
     "is_executing": true
    }
   }
  },
  {
   "cell_type": "code",
   "execution_count": null,
   "outputs": [],
   "source": [
    "print(scores)"
   ],
   "metadata": {
    "collapsed": false,
    "pycharm": {
     "is_executing": true
    }
   }
  },
  {
   "cell_type": "code",
   "execution_count": null,
   "outputs": [],
   "source": [],
   "metadata": {
    "collapsed": false,
    "pycharm": {
     "is_executing": true
    }
   }
  }
 ],
 "metadata": {
  "kernelspec": {
   "display_name": "Python 3",
   "language": "python",
   "name": "python3"
  },
  "language_info": {
   "codemirror_mode": {
    "name": "ipython",
    "version": 2
   },
   "file_extension": ".py",
   "mimetype": "text/x-python",
   "name": "python",
   "nbconvert_exporter": "python",
   "pygments_lexer": "ipython2",
   "version": "2.7.6"
  }
 },
 "nbformat": 4,
 "nbformat_minor": 0
}
