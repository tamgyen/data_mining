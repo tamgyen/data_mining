{
 "cells": [
  {
   "cell_type": "code",
   "execution_count": 2,
   "metadata": {
    "collapsed": true
   },
   "outputs": [],
   "source": [
    "import os\n",
    "import sys\n",
    "\n",
    "import pandas as pd\n",
    "import numpy as np\n",
    "from matplotlib import pyplot as plt\n",
    "import seaborn_image as isns\n",
    "\n",
    "import tensorflow as tf\n",
    "import keras\n",
    "from keras.layers import *\n",
    "from keras.models import Model\n",
    "from keras.losses import CategoricalCrossentropy\n",
    "from keras.callbacks import ModelCheckpoint"
   ]
  },
  {
   "cell_type": "code",
   "execution_count": 3,
   "metadata": {},
   "outputs": [
    {
     "data": {
      "text/plain": [
       "'2.8.4'"
      ]
     },
     "execution_count": 3,
     "metadata": {},
     "output_type": "execute_result"
    }
   ],
   "source": [
    "tf.version.VERSION"
   ]
  },
  {
   "cell_type": "code",
   "execution_count": 4,
   "metadata": {},
   "outputs": [
    {
     "data": {
      "text/plain": [
       "[PhysicalDevice(name='/physical_device:CPU:0', device_type='CPU'),\n",
       " PhysicalDevice(name='/physical_device:GPU:0', device_type='GPU')]"
      ]
     },
     "execution_count": 4,
     "metadata": {},
     "output_type": "execute_result"
    }
   ],
   "source": [
    "tf.config.list_physical_devices()"
   ]
  },
  {
   "cell_type": "markdown",
   "metadata": {},
   "source": [
    "## 1. Data Preparation\n",
    "We just load the data and reshape into 28 by 28 images."
   ]
  },
  {
   "cell_type": "code",
   "execution_count": 5,
   "metadata": {},
   "outputs": [],
   "source": [
    "train_data_csv = pd.read_csv('data/train.csv')"
   ]
  },
  {
   "cell_type": "code",
   "execution_count": 6,
   "metadata": {},
   "outputs": [],
   "source": [
    "train_featrues, train_targets = (train_data_csv.drop(['label'], axis=1), train_data_csv.label)"
   ]
  },
  {
   "cell_type": "code",
   "execution_count": 7,
   "metadata": {},
   "outputs": [],
   "source": [
    "train_images = train_featrues.values.astype('float32').reshape(-1, 28, 28, 1)"
   ]
  },
  {
   "cell_type": "code",
   "execution_count": 8,
   "metadata": {},
   "outputs": [
    {
     "data": {
      "image/png": "[encoded data removed]",
      "text/plain": [
       "<Figure size 900x900 with 18 Axes>"
      ]
     },
     "metadata": {},
     "output_type": "display_data"
    }
   ],
   "source": [
    "# check some samples\n",
    "ints = np.random.randint(0, train_images.shape[0], 9)\n",
    "_ = isns.ImageGrid([np.flipud(train_images[i, :, :, :].reshape(28, 28)) for i in ints],\n",
    "                   cbar_label=[f'{train_targets[i]}' for i in ints],\n",
    "                   col_wrap=3)"
   ]
  },
  {
   "cell_type": "code",
   "execution_count": 9,
   "metadata": {},
   "outputs": [],
   "source": [
    "# convert targets to cat\n",
    "train_targets = tf.keras.utils.to_categorical(train_targets, num_classes=10, dtype='float32')"
   ]
  },
  {
   "cell_type": "code",
   "execution_count": 10,
   "metadata": {},
   "outputs": [
    {
     "data": {
      "text/plain": [
       "(60000, 10)"
      ]
     },
     "execution_count": 10,
     "metadata": {},
     "output_type": "execute_result"
    }
   ],
   "source": [
    "train_targets.shape"
   ]
  },
  {
   "cell_type": "code",
   "execution_count": 11,
   "metadata": {},
   "outputs": [
    {
     "data": {
      "text/plain": [
       "(60000, 28, 28, 1)"
      ]
     },
     "execution_count": 11,
     "metadata": {},
     "output_type": "execute_result"
    }
   ],
   "source": [
    "train_images.shape"
   ]
  },
  {
   "cell_type": "markdown",
   "metadata": {},
   "source": [
    "## 2. Experiments\n",
    "Here I tried to select a good base model architecture. I experimented with fairly shallow CNNs mostly using different augemntation factors and various network related hyperparameters. What worked best was a shallow CNN with a wider receptive field that has multiple kernel sized blocks in the beginning with swish activateions (https://arxiv.org/pdf/1710.05941v1.pdf?source=post_page). The geometric augmentations are included via preprocessing layers for performance reasons (so they can be done on GPU in training time). \"With this option, preprocessing will happen on device, synchronously with the rest of the model execution, meaning that it will benefit from GPU acceleration. If you're training on GPU, this is the best option for the Normalization layer, and for all image preprocessing and data augmentation layers.\" The experiments are saved along with the results.\n",
    "\n",
    "Here, for the ML platform I use TensorFlow and for model building I use the Keras functional API (https://keras.io/guides/functional_api/). There are some syntactical and also functional differences to PyTorch (e.g. Theano vs Torch) , but the approaches are essentially the same."
   ]
  },
  {
   "cell_type": "markdown",
   "metadata": {},
   "source": [
    "![](weights_best_0.h5_v.png)"
   ]
  },
  {
   "cell_type": "code",
   "execution_count": 37,
   "metadata": {},
   "outputs": [],
   "source": [
    "# define geometric augments using preproc. layers\n",
    "def scale_and_augment(input):\n",
    "    x = Rescaling(1./255)(input)\n",
    "    x = RandomRotation(.028, fill_mode='constant')(x)\n",
    "    x = RandomTranslation(.25, .25, fill_mode='constant')(x)\n",
    "    x = RandomZoom((-.2, .2), fill_mode='constant')(x)\n",
    "\n",
    "    return x\n",
    "\n",
    "# define a conv block for easy building\n",
    "def conv_block(input, depth, kernel_size, num_kernels, activation, batchnorm):\n",
    "    for _ in range(depth):\n",
    "        x = Conv2D(filters=num_kernels,\n",
    "                   kernel_size=kernel_size,\n",
    "                   padding='same',\n",
    "                   )(input)\n",
    "        if batchnorm:\n",
    "            x = BatchNormalization()(x)\n",
    "        x = Activation(activation)(x)\n",
    "\n",
    "    return x"
   ]
  },
  {
   "cell_type": "code",
   "execution_count": 38,
   "metadata": {},
   "outputs": [],
   "source": [
    "# build some models..\n",
    "def build_cnn_1(weights=None):\n",
    "    name = 'cnn_1'\n",
    "    inputs = Input(shape=train_images.shape[1:])\n",
    "\n",
    "    x = scale_and_augment(inputs)\n",
    "\n",
    "    x = conv_block(input=x,\n",
    "                   depth=3,\n",
    "                   kernel_size=3,\n",
    "                   num_kernels=64,\n",
    "                   activation='relu',\n",
    "                   batchnorm=True)\n",
    "\n",
    "\n",
    "    x = MaxPool2D(2, 2)(x)\n",
    "    x = Dropout(.3)(x)\n",
    "\n",
    "    x = conv_block(input=x,\n",
    "                   depth=3,\n",
    "                   kernel_size=3,\n",
    "                   num_kernels=128,\n",
    "                   activation='relu',\n",
    "                   batchnorm=True)\n",
    "\n",
    "    x = MaxPool2D(2, 2)(x)\n",
    "    x = Dropout(.3)(x)\n",
    "\n",
    "    x = conv_block(input=x,\n",
    "                   depth=3,\n",
    "                   kernel_size=3,\n",
    "                   num_kernels=256,\n",
    "                   activation='relu',\n",
    "                   batchnorm=True)\n",
    "\n",
    "    x = MaxPool2D(2, 2)(x)\n",
    "    x = Dropout(.3)(x)\n",
    "\n",
    "    x = Flatten()(x)\n",
    "    x = Dense(128, activation='relu')(x)\n",
    "    x = BatchNormalization()(x)\n",
    "\n",
    "    outputs = Dense(10, activation='softmax')(x)\n",
    "\n",
    "    model = Model(inputs, outputs)\n",
    "    model.compile(loss=CategoricalCrossentropy(),\n",
    "              optimizer=tf.keras.optimizers.Adam(),\n",
    "              metrics=['accuracy'])\n",
    "\n",
    "    if weights is not None:\n",
    "        model.load_weights(weights)\n",
    "\n",
    "    return model"
   ]
  },
  {
   "cell_type": "code",
   "execution_count": 39,
   "metadata": {},
   "outputs": [],
   "source": [
    "def build_cnn_2(weights=None):\n",
    "    name = 'cnn_2'\n",
    "    inputs = Input(shape=train_images.shape[1:])\n",
    "\n",
    "    x = scale_and_augment(inputs)\n",
    "\n",
    "    x = conv_block(input=x,\n",
    "                   depth=3,\n",
    "                   kernel_size=3,\n",
    "                   num_kernels=16,\n",
    "                   activation='relu',\n",
    "                   batchnorm=True)\n",
    "\n",
    "\n",
    "    x = MaxPool2D(2, 2)(x)\n",
    "    x = Dropout(.3)(x)\n",
    "\n",
    "    x = conv_block(input=x,\n",
    "                   depth=3,\n",
    "                   kernel_size=3,\n",
    "                   num_kernels=32,\n",
    "                   activation='relu',\n",
    "                   batchnorm=True)\n",
    "\n",
    "    x = MaxPool2D(2, 2)(x)\n",
    "    x = Dropout(.3)(x)\n",
    "\n",
    "    x = conv_block(input=x,\n",
    "                   depth=3,\n",
    "                   kernel_size=3,\n",
    "                   num_kernels=64,\n",
    "                   activation='relu',\n",
    "                   batchnorm=True)\n",
    "\n",
    "    x = MaxPool2D(2, 2)(x)\n",
    "    x = Dropout(.3)(x)\n",
    "\n",
    "    x = conv_block(input=x,\n",
    "                   depth=3,\n",
    "                   kernel_size=3,\n",
    "                   num_kernels=128,\n",
    "                   activation='relu',\n",
    "                   batchnorm=True)\n",
    "\n",
    "    x = MaxPool2D(2, 2)(x)\n",
    "    x = Dropout(.3)(x)\n",
    "\n",
    "    x = Flatten()(x)\n",
    "    x = Dense(128, activation='relu')(x)\n",
    "    x = BatchNormalization()(x)\n",
    "\n",
    "    outputs = Dense(10, activation='softmax')(x)\n",
    "\n",
    "    model = Model(inputs, outputs)\n",
    "    model.compile(loss=CategoricalCrossentropy(),\n",
    "              optimizer=tf.keras.optimizers.Adam(),\n",
    "              metrics=['accuracy'])\n",
    "\n",
    "    if weights is not None:\n",
    "        model.load_weights(weights)\n",
    "\n",
    "    return model"
   ]
  },
  {
   "cell_type": "code",
   "execution_count": 40,
   "metadata": {},
   "outputs": [],
   "source": [
    "def build_cnn_3(weights=None):\n",
    "    \"\"\"\n",
    "    - starts with augmentation layers for the first regularizer\n",
    "    - 3 input branches with different kernel sizes to capture different sized immediate image features\n",
    "    - BatchNorm for second strong regularizer\n",
    "    - Dropout for third regularizer\n",
    "    - Swish, because it beats ReLU slightly: https://arxiv.org/pdf/1710.05941v1.pdf?source=post_page\n",
    "    - Shallow: only 3 main conv layer blocks\n",
    "        - we don't need complex features and colors etc\n",
    "        - no need for transfer learning with 100+ layer imagenet CNN-s for the same reason\n",
    "    - This has ~1M params, but even this many may be overkill\n",
    "\n",
    "    :param weights:\n",
    "    :return:\n",
    "    \"\"\"\n",
    "    name = 'cnn_3'\n",
    "    inputs = Input(shape=train_images.shape[1:])\n",
    "\n",
    "    x = scale_and_augment(inputs)\n",
    "\n",
    "    x1 = conv_block(input=x,\n",
    "                   depth=3,\n",
    "                   kernel_size=3,\n",
    "                   num_kernels=32,\n",
    "                   activation='swish',\n",
    "                   batchnorm=True)\n",
    "\n",
    "    x2 = conv_block(input=x,\n",
    "               depth=2,\n",
    "               kernel_size=5,\n",
    "               num_kernels=32,\n",
    "               activation='swish',\n",
    "               batchnorm=True)\n",
    "\n",
    "    x2 = conv_block(input=x2,\n",
    "               depth=2,\n",
    "               kernel_size=3,\n",
    "               num_kernels=32,\n",
    "               activation='swish',\n",
    "               batchnorm=True)\n",
    "\n",
    "    x3 = conv_block(input=x,\n",
    "               depth=1,\n",
    "               kernel_size=7,\n",
    "               num_kernels=32,\n",
    "               activation='swish',\n",
    "               batchnorm=True)\n",
    "\n",
    "\n",
    "    x = Concatenate()([x1, x2, x3])\n",
    "\n",
    "    x = MaxPool2D(2, 2)(x)\n",
    "    x = Dropout(.2)(x)\n",
    "\n",
    "    x = conv_block(input=x,\n",
    "                   depth=3,\n",
    "                   kernel_size=3,\n",
    "                   num_kernels=128,\n",
    "                   activation='swish',\n",
    "                   batchnorm=True)\n",
    "\n",
    "    x = MaxPool2D(2, 2)(x)\n",
    "    x = Dropout(.2)(x)\n",
    "\n",
    "    x = conv_block(input=x,\n",
    "                   depth=3,\n",
    "                   kernel_size=3,\n",
    "                   num_kernels=256,\n",
    "                   activation='swish',\n",
    "                   batchnorm=True)\n",
    "\n",
    "    x = MaxPool2D(2, 2)(x)\n",
    "    x = Dropout(.3)(x)\n",
    "\n",
    "    x = Flatten()(x)\n",
    "    x = Dense(256, activation='swish')(x)\n",
    "    x = BatchNormalization()(x)\n",
    "\n",
    "    outputs = Dense(10, activation='softmax')(x)\n",
    "\n",
    "    model = Model(inputs, outputs)\n",
    "    model.compile(loss=CategoricalCrossentropy(),\n",
    "              optimizer=tf.keras.optimizers.Adam(learning_rate=1e-3),\n",
    "              metrics=['accuracy'])\n",
    "\n",
    "    if weights is not None:\n",
    "        model.load_weights(weights)\n",
    "\n",
    "    return model, name"
   ]
  },
  {
   "cell_type": "code",
   "execution_count": 41,
   "metadata": {},
   "outputs": [],
   "source": [
    "model, name = build_cnn_3()"
   ]
  },
  {
   "cell_type": "code",
   "execution_count": 42,
   "metadata": {},
   "outputs": [
    {
     "name": "stdout",
     "output_type": "stream",
     "text": [
      "Model: \"model_2\"\n",
      "__________________________________________________________________________________________________\n",
      " Layer (type)                   Output Shape         Param #     Connected to                     \n",
      "==================================================================================================\n",
      " input_3 (InputLayer)           [(None, 28, 28, 1)]  0           []                               \n",
      "                                                                                                  \n",
      " rescaling_2 (Rescaling)        (None, 28, 28, 1)    0           ['input_3[0][0]']                \n",
      "                                                                                                  \n",
      " random_rotation_2 (RandomRotat  (None, 28, 28, 1)   0           ['rescaling_2[0][0]']            \n",
      " ion)                                                                                             \n",
      "                                                                                                  \n",
      " random_translation_2 (RandomTr  (None, 28, 28, 1)   0           ['random_rotation_2[0][0]']      \n",
      " anslation)                                                                                       \n",
      "                                                                                                  \n",
      " random_zoom_2 (RandomZoom)     (None, 28, 28, 1)    0           ['random_translation_2[0][0]']   \n",
      "                                                                                                  \n",
      " conv2d_32 (Conv2D)             (None, 28, 28, 32)   832         ['random_zoom_2[0][0]']          \n",
      "                                                                                                  \n",
      " batch_normalization_34 (BatchN  (None, 28, 28, 32)  128         ['conv2d_32[0][0]']              \n",
      " ormalization)                                                                                    \n",
      "                                                                                                  \n",
      " activation_32 (Activation)     (None, 28, 28, 32)   0           ['batch_normalization_34[0][0]'] \n",
      "                                                                                                  \n",
      " conv2d_30 (Conv2D)             (None, 28, 28, 32)   320         ['random_zoom_2[0][0]']          \n",
      "                                                                                                  \n",
      " conv2d_34 (Conv2D)             (None, 28, 28, 32)   9248        ['activation_32[0][0]']          \n",
      "                                                                                                  \n",
      " conv2d_35 (Conv2D)             (None, 28, 28, 32)   1600        ['random_zoom_2[0][0]']          \n",
      "                                                                                                  \n",
      " batch_normalization_32 (BatchN  (None, 28, 28, 32)  128         ['conv2d_30[0][0]']              \n",
      " ormalization)                                                                                    \n",
      "                                                                                                  \n",
      " batch_normalization_36 (BatchN  (None, 28, 28, 32)  128         ['conv2d_34[0][0]']              \n",
      " ormalization)                                                                                    \n",
      "                                                                                                  \n",
      " batch_normalization_37 (BatchN  (None, 28, 28, 32)  128         ['conv2d_35[0][0]']              \n",
      " ormalization)                                                                                    \n",
      "                                                                                                  \n",
      " activation_30 (Activation)     (None, 28, 28, 32)   0           ['batch_normalization_32[0][0]'] \n",
      "                                                                                                  \n",
      " activation_34 (Activation)     (None, 28, 28, 32)   0           ['batch_normalization_36[0][0]'] \n",
      "                                                                                                  \n",
      " activation_35 (Activation)     (None, 28, 28, 32)   0           ['batch_normalization_37[0][0]'] \n",
      "                                                                                                  \n",
      " concatenate_2 (Concatenate)    (None, 28, 28, 96)   0           ['activation_30[0][0]',          \n",
      "                                                                  'activation_34[0][0]',          \n",
      "                                                                  'activation_35[0][0]']          \n",
      "                                                                                                  \n",
      " max_pooling2d_6 (MaxPooling2D)  (None, 14, 14, 96)  0           ['concatenate_2[0][0]']          \n",
      "                                                                                                  \n",
      " dropout_6 (Dropout)            (None, 14, 14, 96)   0           ['max_pooling2d_6[0][0]']        \n",
      "                                                                                                  \n",
      " conv2d_38 (Conv2D)             (None, 14, 14, 128)  110720      ['dropout_6[0][0]']              \n",
      "                                                                                                  \n",
      " batch_normalization_40 (BatchN  (None, 14, 14, 128)  512        ['conv2d_38[0][0]']              \n",
      " ormalization)                                                                                    \n",
      "                                                                                                  \n",
      " activation_38 (Activation)     (None, 14, 14, 128)  0           ['batch_normalization_40[0][0]'] \n",
      "                                                                                                  \n",
      " max_pooling2d_7 (MaxPooling2D)  (None, 7, 7, 128)   0           ['activation_38[0][0]']          \n",
      "                                                                                                  \n",
      " dropout_7 (Dropout)            (None, 7, 7, 128)    0           ['max_pooling2d_7[0][0]']        \n",
      "                                                                                                  \n",
      " conv2d_41 (Conv2D)             (None, 7, 7, 256)    295168      ['dropout_7[0][0]']              \n",
      "                                                                                                  \n",
      " batch_normalization_43 (BatchN  (None, 7, 7, 256)   1024        ['conv2d_41[0][0]']              \n",
      " ormalization)                                                                                    \n",
      "                                                                                                  \n",
      " activation_41 (Activation)     (None, 7, 7, 256)    0           ['batch_normalization_43[0][0]'] \n",
      "                                                                                                  \n",
      " max_pooling2d_8 (MaxPooling2D)  (None, 3, 3, 256)   0           ['activation_41[0][0]']          \n",
      "                                                                                                  \n",
      " dropout_8 (Dropout)            (None, 3, 3, 256)    0           ['max_pooling2d_8[0][0]']        \n",
      "                                                                                                  \n",
      " flatten_2 (Flatten)            (None, 2304)         0           ['dropout_8[0][0]']              \n",
      "                                                                                                  \n",
      " dense_4 (Dense)                (None, 256)          590080      ['flatten_2[0][0]']              \n",
      "                                                                                                  \n",
      " batch_normalization_44 (BatchN  (None, 256)         1024        ['dense_4[0][0]']                \n",
      " ormalization)                                                                                    \n",
      "                                                                                                  \n",
      " dense_5 (Dense)                (None, 10)           2570        ['batch_normalization_44[0][0]'] \n",
      "                                                                                                  \n",
      "==================================================================================================\n",
      "Total params: 1,013,610\n",
      "Trainable params: 1,012,074\n",
      "Non-trainable params: 1,536\n",
      "__________________________________________________________________________________________________\n",
      "None\n"
     ]
    }
   ],
   "source": [
    "print(model.summary())"
   ]
  },
  {
   "cell_type": "code",
   "execution_count": 43,
   "metadata": {},
   "outputs": [],
   "source": [
    "# make a tf Dataset\n",
    "ds_train_set = tf.data.Dataset.from_tensor_slices((train_images, train_targets))"
   ]
  },
  {
   "cell_type": "code",
   "execution_count": 44,
   "metadata": {},
   "outputs": [],
   "source": [
    "# split and batch\n",
    "SPLIT = .1\n",
    "BATCH_SIZE = 2048\n",
    "\n",
    "ds_eval = ds_train_set.take(round(train_targets.shape[0]*SPLIT))\n",
    "ds_train = ds_train_set.skip(round(train_targets.shape[0]*SPLIT))\n",
    "\n",
    "ds_train = ds_train.batch(BATCH_SIZE)\n",
    "ds_eval = ds_eval.batch(BATCH_SIZE)"
   ]
  },
  {
   "cell_type": "code",
   "execution_count": 45,
   "metadata": {},
   "outputs": [],
   "source": [
    "# speed\n",
    "AUTOTUNE = tf.data.AUTOTUNE"
   ]
  },
  {
   "cell_type": "code",
   "execution_count": 46,
   "metadata": {},
   "outputs": [],
   "source": [
    "ds_train = ds_train.cache().shuffle(2000).prefetch(buffer_size=AUTOTUNE)"
   ]
  },
  {
   "cell_type": "code",
   "execution_count": null,
   "metadata": {
    "pycharm": {
     "is_executing": true
    }
   },
   "outputs": [],
   "source": [
    "history = model.fit(\n",
    "                    ds_train,\n",
    "                    validation_data=ds_eval,\n",
    "                    epochs=100,\n",
    "                    callbacks=[ModelCheckpoint(f'./models/{name}/weights_best.h5', monitor='val_accuracy', save_best_only=True, mode='max', verbose=1)]\n",
    "                    )"
   ]
  },
  {
   "cell_type": "code",
   "execution_count": 48,
   "metadata": {},
   "outputs": [
    {
     "data": {
      "text/plain": [
       "<matplotlib.legend.Legend at 0x237fdc8a170>"
      ]
     },
     "execution_count": 48,
     "metadata": {},
     "output_type": "execute_result"
    },
    {
     "data": {
      "image/png": "[encoded data removed]",
      "text/plain": [
       "<Figure size 640x480 with 1 Axes>"
      ]
     },
     "metadata": {},
     "output_type": "display_data"
    }
   ],
   "source": [
    "# plot hist\n",
    "plt.plot(history.history['loss'], 'g')\n",
    "plt.plot(history.history['val_loss'], 'r')\n",
    "plt.title(f'{name} Loss across epochs\\n')\n",
    "plt.ylabel('Loss')\n",
    "plt.xlabel('# epoch')\n",
    "plt.legend(['train', 'test'], loc='lower right')"
   ]
  },
  {
   "cell_type": "code",
   "execution_count": null,
   "metadata": {},
   "outputs": [
    {
     "name": "stdout",
     "output_type": "stream",
     "text": [
      "5/5 [==============================] - 5s 68ms/step - loss: 0.0351 - accuracy: 0.9927\n",
      "INFO:tensorflow:Assets written to: ./models/cnn_3/model\\assets\n",
      "done training!\n"
     ]
    }
   ],
   "source": [
    "# save the experiment\n",
    "model.load_weights(f'./models/{name}/weights_best.h5')\n",
    "\n",
    "scores = model.evaluate(ds_eval)\n",
    "\n",
    "os.makedirs(f'./models/{name}/model', exist_ok=True)\n",
    "model.save(filepath=f'./models/{name}/model', save_format='tf')\n",
    "\n",
    "print(\"done training!\")\n",
    "\n",
    "original_stdout = sys.stdout\n",
    "with open(f'./models/{name}/training.info', 'w') as f:\n",
    "    sys.stdout = f\n",
    "\n",
    "    print(f'\\n\\n***MODEL SUMMARY***\\nacc: {scores[2]}')\n",
    "    print(model.summary())\n",
    "    print('\\n\\n****FLOPS***\\n')\n",
    "\n",
    "    sys.stdout = original_stdout\n",
    "\n",
    "print('done experiment!')"
   ]
  },
  {
   "cell_type": "markdown",
   "metadata": {},
   "source": [
    "## 3. Ensemble + Pseudo Labelling\n",
    "Since we have an already very accurate classifier, we may use some semi supervised learning to improve the score further. With pseudo labeling we predict on the test set and use confidently predicted test samples to extend our training data. We then train multiple models and use the average PD to make the final predictions."
   ]
  },
  {
   "cell_type": "markdown",
   "source": [
    "![](Pseudo-Labeling-Learning-Architecture.png)"
   ],
   "metadata": {
    "collapsed": false
   }
  },
  {
   "cell_type": "code",
   "execution_count": 61,
   "metadata": {},
   "outputs": [],
   "source": [
    "# training loop for ensemble\n",
    "def train_n_models(n, dataset, prefix, split, epochs):\n",
    "    for i in range(n):\n",
    "        ds = dataset.shuffle(len(dataset), reshuffle_each_iteration=False)\n",
    "\n",
    "        SPLIT = split\n",
    "        BATCH_SIZE = 2048\n",
    "\n",
    "        ds_eval = ds.take(round(train_targets.shape[0] * SPLIT))\n",
    "        ds_train = ds.skip(round(train_targets.shape[0] * SPLIT))\n",
    "\n",
    "        ds_train = ds_train.batch(BATCH_SIZE)\n",
    "        ds_eval = ds_eval.batch(8)\n",
    "\n",
    "        ds_train = ds_train.cache().shuffle(2000).prefetch(buffer_size=AUTOTUNE)\n",
    "\n",
    "        model, _ = build_cnn_3()\n",
    "\n",
    "        history = model.fit(\n",
    "            ds_train,\n",
    "            validation_data=ds_eval,\n",
    "            epochs=epochs,\n",
    "            callbacks=[\n",
    "                ModelCheckpoint(f'./models/{prefix}/weights_best_{i}.h5', monitor='val_accuracy', save_best_only=True, mode='max',\n",
    "                                verbose=1)]\n",
    "        )\n",
    "\n",
    "        model.load_weights(f'./models/{prefix}/weights_best_{i}.h5')\n",
    "\n",
    "        os.makedirs(f'./models/{prefix}/{i}/model', exist_ok=True)\n",
    "        model.save(filepath=f'./models/{prefix}/{i}/model', save_format='tf')"
   ]
  },
  {
   "cell_type": "code",
   "execution_count": 50,
   "metadata": {},
   "outputs": [],
   "source": [
    "# load and transform test data\n",
    "test_data_csv = pd.read_csv('data/test.csv')\n",
    "ids, test_images = test_data_csv.id, test_data_csv.drop(['id'], axis=1).values.astype('float32').reshape(-1, 28, 28, 1)"
   ]
  },
  {
   "cell_type": "code",
   "execution_count": 51,
   "metadata": {},
   "outputs": [],
   "source": [
    "# load trained base model\n",
    "model, _ = build_cnn_3(f'./models/cnn_3/weights_best.h5')"
   ]
  },
  {
   "cell_type": "code",
   "execution_count": 52,
   "metadata": {},
   "outputs": [
    {
     "data": {
      "text/plain": [
       "(5000, 28, 28, 1)"
      ]
     },
     "execution_count": 52,
     "metadata": {},
     "output_type": "execute_result"
    }
   ],
   "source": [
    "test_images.shape"
   ]
  },
  {
   "cell_type": "code",
   "execution_count": 53,
   "metadata": {},
   "outputs": [],
   "source": [
    "# predict on test set\n",
    "preds = model.predict(test_images)"
   ]
  },
  {
   "cell_type": "code",
   "execution_count": 54,
   "metadata": {},
   "outputs": [],
   "source": [
    "# get test labels\n",
    "test_targets = np.argmax(preds, axis=1)\n",
    "\n",
    "# get indices with high confidence\n",
    "ids_confident = np.argwhere((preds > .95).any(axis=1))\n",
    "\n",
    "# select from the preds\n",
    "test_images_confident, test_targets_confident = (test_images[ids_confident].astype('float32'), np.squeeze(test_targets[ids_confident]))\n",
    "test_images_confident = test_images_confident.reshape(-1, 28, 28, 1)"
   ]
  },
  {
   "cell_type": "code",
   "execution_count": 55,
   "metadata": {},
   "outputs": [
    {
     "data": {
      "text/plain": [
       "(4746, 28, 28, 1)"
      ]
     },
     "execution_count": 55,
     "metadata": {},
     "output_type": "execute_result"
    }
   ],
   "source": [
    "test_images_confident.shape"
   ]
  },
  {
   "cell_type": "code",
   "execution_count": 56,
   "metadata": {},
   "outputs": [
    {
     "data": {
      "image/png": "[encoded data removed]",
      "text/plain": [
       "<Figure size 900x900 with 18 Axes>"
      ]
     },
     "metadata": {},
     "output_type": "display_data"
    }
   ],
   "source": [
    "# check some predictions\n",
    "ints = np.random.randint(0, test_images_confident.shape[0], 9)\n",
    "_ = isns.ImageGrid([np.flipud(test_images_confident[i, :, :, :].reshape(28, 28)) for i in ints],\n",
    "                   cbar_label=[f'{test_targets_confident[i]}' for i in ints],\n",
    "                   col_wrap=3)"
   ]
  },
  {
   "cell_type": "code",
   "execution_count": 57,
   "metadata": {},
   "outputs": [],
   "source": [
    "# convert tets targets to cat\n",
    "test_targets_confident = tf.keras.utils.to_categorical(test_targets_confident, num_classes=10, dtype='float32')"
   ]
  },
  {
   "cell_type": "code",
   "execution_count": 58,
   "metadata": {},
   "outputs": [],
   "source": [
    "# create test ds and combine with train ds to get pseudo ds\n",
    "ds_test_confident = tf.data.Dataset.from_tensor_slices((test_images_confident, test_targets_confident))\n",
    "ds_pseudo_label = ds_train_set.concatenate(ds_test_confident)"
   ]
  },
  {
   "cell_type": "code",
   "execution_count": 59,
   "metadata": {},
   "outputs": [
    {
     "data": {
      "text/plain": [
       "64746"
      ]
     },
     "execution_count": 59,
     "metadata": {},
     "output_type": "execute_result"
    }
   ],
   "source": [
    "len(ds_pseudo_label)"
   ]
  },
  {
   "cell_type": "code",
   "execution_count": null,
   "metadata": {
    "pycharm": {
     "is_executing": true
    }
   },
   "outputs": [],
   "source": [
    "# train 3 models\n",
    "train_n_models(n=3,\n",
    "               dataset=ds_pseudo_label,\n",
    "               prefix='pseudo_label',\n",
    "               split=.015,\n",
    "               epochs=100)"
   ]
  },
  {
   "cell_type": "code",
   "execution_count": null,
   "metadata": {},
   "outputs": [],
   "source": [
    "# create ensemble preds\n",
    "preds_ensemble = []\n",
    "for i in range(4):\n",
    "    model = keras.models.load_model(\n",
    "        f'./models/pseudo_label_v2/{i}/model')\n",
    "    preds = model.predict(test_images)\n",
    "\n",
    "    preds_ensemble.append(preds.reshape(-1, 10, 1))"
   ]
  },
  {
   "cell_type": "code",
   "execution_count": null,
   "metadata": {},
   "outputs": [],
   "source": [
    "preds_ensemble_arr = np.concatenate(preds_ensemble, axis=2)\n",
    "preds_ensemble_final = np.argmax(np.mean(preds_ensemble_arr, axis=2), axis=1)"
   ]
  },
  {
   "cell_type": "code",
   "execution_count": null,
   "metadata": {},
   "outputs": [],
   "source": [
    "# this reached 0.9842 private and 0.9848 public score\n",
    "preds_ensemble_final"
   ]
  },
  {
   "cell_type": "markdown",
   "metadata": {},
   "source": [
    "From here it's more experimenting, but I ran out of time to tune this.."
   ]
  },
  {
   "cell_type": "code",
   "execution_count": 66,
   "metadata": {},
   "outputs": [],
   "source": [
    "def train_n_models_v2(n, images_ds, targets_ds, prefix, splits, epochs):\n",
    "    for i in range(n):\n",
    "        train_images = images_ds[i]\n",
    "        train_targets = targets_ds[i]\n",
    "\n",
    "        ds = tf.data.Dataset.from_tensor_slices((train_images, train_targets))\n",
    "\n",
    "        BATCH_SIZE = 2048\n",
    "\n",
    "        ds_eval = ds.take(round(train_targets.shape[0] * splits[i]))\n",
    "        ds_train = ds.skip(round(train_targets.shape[0] * splits[i]))\n",
    "\n",
    "        ds_train = ds_train.batch(BATCH_SIZE)\n",
    "        ds_eval = ds_eval.batch(8)\n",
    "\n",
    "        ds_train = ds_train.cache().shuffle(2000).prefetch(buffer_size=AUTOTUNE)\n",
    "\n",
    "        model, _ = build_cnn_3()\n",
    "\n",
    "\n",
    "        if splits[i] == 0:\n",
    "            print(f\"fitting model {i} with no callbacks..\")\n",
    "\n",
    "            history = model.fit(\n",
    "            ds_train,\n",
    "            epochs=epochs[i])\n",
    "\n",
    "        else:\n",
    "            print(f\"fitting model {i} WITH callbacks..\")\n",
    "\n",
    "            history = model.fit(\n",
    "            ds_train,\n",
    "            validation_data=ds_eval,\n",
    "            epochs=epochs[i],\n",
    "            callbacks=[\n",
    "                ModelCheckpoint(f'./models/{prefix}/weights_best_{i}.h5', monitor='val_accuracy', save_best_only=True, mode='max', verbose=1)])\n",
    "\n",
    "        if splits[i] != 0:\n",
    "            model.load_weights(f'./models/{prefix}/weights_best_{i}.h5')\n",
    "\n",
    "        os.makedirs(f'./models/{prefix}/{i}/model', exist_ok=True)\n",
    "        model.save(filepath=f'./models/{prefix}/{i}/model', save_format='tf')"
   ]
  },
  {
   "cell_type": "code",
   "execution_count": null,
   "metadata": {
    "pycharm": {
     "is_executing": true
    }
   },
   "outputs": [],
   "source": [
    "# making datasets using pseudo labeling based on previous preds\n",
    "images_pseudo_ds = []\n",
    "targets_pseudo_ds = []\n",
    "for i in range(4):\n",
    "    model, _ = build_cnn_3(f'./models/final_models/weights_best_{i}.h5')\n",
    "\n",
    "    preds = model.predict(test_images)\n",
    "\n",
    "    test_targets = np.argmax(preds, axis=1)\n",
    "\n",
    "    ids_confident = np.argwhere((preds > .95).any(axis=1))\n",
    "\n",
    "    test_images_confident, test_targets_confident = (test_images[ids_confident].astype('float32'), np.squeeze(test_targets[ids_confident]))\n",
    "    test_images_confident = test_images_confident.reshape(-1, 28, 28, 1)\n",
    "\n",
    "    test_targets_confident = tf.keras.utils.to_categorical(test_targets_confident, num_classes=10, dtype='float32')\n",
    "\n",
    "    images_pseudo = np.concatenate([train_images, test_images_confident], axis=0)\n",
    "    targets_pseudo = np.concatenate([train_targets, test_targets_confident], axis=0)\n",
    "\n",
    "    rand_order = np.array(range(targets_pseudo.shape[0]))\n",
    "    np.random.shuffle(rand_order)\n",
    "\n",
    "    images_pseudo = images_pseudo[rand_order]\n",
    "    targets_pseudo = targets_pseudo[rand_order]\n",
    "\n",
    "    print(images_pseudo.shape, targets_pseudo.shape)\n",
    "\n",
    "    images_pseudo_ds.append(images_pseudo)\n",
    "    targets_pseudo_ds.append(targets_pseudo)\n",
    "\n",
    "train_n_models_v2(n=4,\n",
    "                   images_ds=images_pseudo_ds,\n",
    "                   targets_ds=targets_pseudo_ds,\n",
    "                   prefix='pseudo_label_v2',\n",
    "                   splits=[.1, .05, .01,  0.005],\n",
    "                   epochs=[100, 100, 100, 100])"
   ]
  },
  {
   "cell_type": "code",
   "execution_count": null,
   "metadata": {
    "pycharm": {
     "is_executing": true
    }
   },
   "outputs": [],
   "source": [
    "preds_ensemble = []\n",
    "for i in range(4):\n",
    "    model = keras.models.load_model(f'C:/KBData/01_PROJECT/00_GIT/ELTE/data_mining/comp_3/models/pseudo_label_v2/{i}/model')\n",
    "    preds = model.predict(test_images)\n",
    "\n",
    "    preds_ensemble.append(preds.reshape(-1, 10, 1))"
   ]
  },
  {
   "cell_type": "code",
   "execution_count": 69,
   "metadata": {},
   "outputs": [
    {
     "data": {
      "text/plain": [
       "(5000, 10, 1)"
      ]
     },
     "execution_count": 69,
     "metadata": {},
     "output_type": "execute_result"
    }
   ],
   "source": [
    "preds_ensemble[0].shape"
   ]
  },
  {
   "cell_type": "code",
   "execution_count": 70,
   "metadata": {},
   "outputs": [],
   "source": [
    "preds_ensemble_arr = np.concatenate(preds_ensemble, axis=2)"
   ]
  },
  {
   "cell_type": "code",
   "execution_count": 71,
   "metadata": {},
   "outputs": [],
   "source": [
    "preds_ensemble_final = np.argmax(np.mean(preds_ensemble_arr, axis=2), axis=1)"
   ]
  },
  {
   "cell_type": "code",
   "execution_count": 72,
   "metadata": {},
   "outputs": [
    {
     "data": {
      "text/plain": [
       "array([3, 0, 2, ..., 1, 6, 3], dtype=int64)"
      ]
     },
     "execution_count": 72,
     "metadata": {},
     "output_type": "execute_result"
    }
   ],
   "source": [
    "preds_ensemble_final"
   ]
  },
  {
   "cell_type": "code",
   "execution_count": null,
   "metadata": {},
   "outputs": [],
   "source": []
  }
 ],
 "metadata": {
  "kernelspec": {
   "display_name": "Python 3 (ipykernel)",
   "language": "python",
   "name": "python3"
  },
  "language_info": {
   "codemirror_mode": {
    "name": "ipython",
    "version": 3
   },
   "file_extension": ".py",
   "mimetype": "text/x-python",
   "name": "python",
   "nbconvert_exporter": "python",
   "pygments_lexer": "ipython3",
   "version": "3.10.10"
  }
 },
 "nbformat": 4,
 "nbformat_minor": 1
}
